{
 "cells": [
  {
   "cell_type": "code",
   "execution_count": 8,
   "id": "262c5d99-ed29-4472-b564-cf000c2f15e8",
   "metadata": {},
   "outputs": [
    {
     "name": "stdout",
     "output_type": "stream",
     "text": [
      "[1.5        2.59807621]\n",
      "[2.5        4.33012702]\n",
      "[0.76794919 5.33012702]\n",
      "[-0.23205081  3.59807621]\n"
     ]
    }
   ],
   "source": [
    "import numpy as np\n",
    "import math\n",
    "\n",
    "deg = 60\n",
    "\n",
    "m = np.array([[math.cos(math.radians(deg)), -math.sin(math.radians(deg))], \\\n",
    "              [math.sin(math.radians(deg)),  math.cos(math.radians(deg))]])\n",
    "\n",
    "v0 = [3, 0]\n",
    "v1 = [5, 0]\n",
    "v2 = [5, 2]\n",
    "v3 = [3, 2]\n",
    "\n",
    "print(np.matmul(m, v0))\n",
    "print(np.matmul(m, v1))\n",
    "print(np.matmul(m, v2))\n",
    "print(np.matmul(m, v3))"
   ]
  }
 ],
 "metadata": {
  "kernelspec": {
   "display_name": "Python 3 (ipykernel)",
   "language": "python",
   "name": "python3"
  },
  "language_info": {
   "codemirror_mode": {
    "name": "ipython",
    "version": 3
   },
   "file_extension": ".py",
   "mimetype": "text/x-python",
   "name": "python",
   "nbconvert_exporter": "python",
   "pygments_lexer": "ipython3",
   "version": "3.11.4"
  }
 },
 "nbformat": 4,
 "nbformat_minor": 5
}
